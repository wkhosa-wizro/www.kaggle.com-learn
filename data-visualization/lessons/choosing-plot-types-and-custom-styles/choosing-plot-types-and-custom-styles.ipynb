{
 "cells": [
  {
   "cell_type": "markdown",
   "metadata": {},
   "source": [
    "# choosing-plot-types-and-custom-styles\n"
   ]
  },
  {
   "cell_type": "markdown",
   "metadata": {},
   "source": [
    "# Exercise "
   ]
  },
  {
   "cell_type": "code",
   "execution_count": 1,
   "metadata": {},
   "outputs": [],
   "source": [
    "import pandas as pd\n",
    "pd.plotting.register_matplotlib_converters()\n",
    "import matplotlib.pyplot as plt\n",
    "%matplotlib inline\n",
    "import seaborn as sns\n"
   ]
  },
  {
   "cell_type": "code",
   "execution_count": 2,
   "metadata": {},
   "outputs": [],
   "source": [
    "spotify_filepath = \"../input/data-for-datavis/spotify.csv\"\n",
    "\n",
    "spotify_data  = pd.read_csv(spotify_filepath)"
   ]
  },
  {
   "cell_type": "code",
   "execution_count": 3,
   "metadata": {},
   "outputs": [
    {
     "data": {
      "text/html": [
       "<div>\n",
       "<style scoped>\n",
       "    .dataframe tbody tr th:only-of-type {\n",
       "        vertical-align: middle;\n",
       "    }\n",
       "\n",
       "    .dataframe tbody tr th {\n",
       "        vertical-align: top;\n",
       "    }\n",
       "\n",
       "    .dataframe thead th {\n",
       "        text-align: right;\n",
       "    }\n",
       "</style>\n",
       "<table border=\"1\" class=\"dataframe\">\n",
       "  <thead>\n",
       "    <tr style=\"text-align: right;\">\n",
       "      <th></th>\n",
       "      <th>Date</th>\n",
       "      <th>Shape of You</th>\n",
       "      <th>Despacito</th>\n",
       "      <th>Something Just Like This</th>\n",
       "      <th>HUMBLE.</th>\n",
       "      <th>Unforgettable</th>\n",
       "    </tr>\n",
       "  </thead>\n",
       "  <tbody>\n",
       "    <tr>\n",
       "      <th>0</th>\n",
       "      <td>2017-01-06</td>\n",
       "      <td>12287078</td>\n",
       "      <td>NaN</td>\n",
       "      <td>NaN</td>\n",
       "      <td>NaN</td>\n",
       "      <td>NaN</td>\n",
       "    </tr>\n",
       "    <tr>\n",
       "      <th>1</th>\n",
       "      <td>2017-01-07</td>\n",
       "      <td>13190270</td>\n",
       "      <td>NaN</td>\n",
       "      <td>NaN</td>\n",
       "      <td>NaN</td>\n",
       "      <td>NaN</td>\n",
       "    </tr>\n",
       "    <tr>\n",
       "      <th>2</th>\n",
       "      <td>2017-01-08</td>\n",
       "      <td>13099919</td>\n",
       "      <td>NaN</td>\n",
       "      <td>NaN</td>\n",
       "      <td>NaN</td>\n",
       "      <td>NaN</td>\n",
       "    </tr>\n",
       "    <tr>\n",
       "      <th>3</th>\n",
       "      <td>2017-01-09</td>\n",
       "      <td>14506351</td>\n",
       "      <td>NaN</td>\n",
       "      <td>NaN</td>\n",
       "      <td>NaN</td>\n",
       "      <td>NaN</td>\n",
       "    </tr>\n",
       "    <tr>\n",
       "      <th>4</th>\n",
       "      <td>2017-01-10</td>\n",
       "      <td>14275628</td>\n",
       "      <td>NaN</td>\n",
       "      <td>NaN</td>\n",
       "      <td>NaN</td>\n",
       "      <td>NaN</td>\n",
       "    </tr>\n",
       "  </tbody>\n",
       "</table>\n",
       "</div>"
      ],
      "text/plain": [
       "         Date  Shape of You  Despacito  Something Just Like This  HUMBLE.  \\\n",
       "0  2017-01-06      12287078        NaN                       NaN      NaN   \n",
       "1  2017-01-07      13190270        NaN                       NaN      NaN   \n",
       "2  2017-01-08      13099919        NaN                       NaN      NaN   \n",
       "3  2017-01-09      14506351        NaN                       NaN      NaN   \n",
       "4  2017-01-10      14275628        NaN                       NaN      NaN   \n",
       "\n",
       "   Unforgettable  \n",
       "0            NaN  \n",
       "1            NaN  \n",
       "2            NaN  \n",
       "3            NaN  \n",
       "4            NaN  "
      ]
     },
     "execution_count": 3,
     "metadata": {},
     "output_type": "execute_result"
    }
   ],
   "source": [
    "spotify_data.head()"
   ]
  },
  {
   "cell_type": "code",
   "execution_count": 4,
   "metadata": {},
   "outputs": [
    {
     "name": "stdout",
     "output_type": "stream",
     "text": [
      "Date\n",
      "Shape of You\n",
      "Despacito\n",
      "Something Just Like This\n",
      "HUMBLE.\n",
      "Unforgettable\n"
     ]
    }
   ],
   "source": [
    "for col in spotify_data.columns:\n",
    "    print(col)"
   ]
  },
  {
   "cell_type": "code",
   "execution_count": 5,
   "metadata": {},
   "outputs": [
    {
     "data": {
      "text/html": [
       "<div>\n",
       "<style scoped>\n",
       "    .dataframe tbody tr th:only-of-type {\n",
       "        vertical-align: middle;\n",
       "    }\n",
       "\n",
       "    .dataframe tbody tr th {\n",
       "        vertical-align: top;\n",
       "    }\n",
       "\n",
       "    .dataframe thead th {\n",
       "        text-align: right;\n",
       "    }\n",
       "</style>\n",
       "<table border=\"1\" class=\"dataframe\">\n",
       "  <thead>\n",
       "    <tr style=\"text-align: right;\">\n",
       "      <th></th>\n",
       "      <th>Date</th>\n",
       "      <th>Shape of You</th>\n",
       "      <th>Despacito</th>\n",
       "      <th>Something Just Like This</th>\n",
       "      <th>HUMBLE.</th>\n",
       "      <th>Unforgettable</th>\n",
       "    </tr>\n",
       "  </thead>\n",
       "  <tbody>\n",
       "    <tr>\n",
       "      <th>0</th>\n",
       "      <td>2017-01-06</td>\n",
       "      <td>12287078</td>\n",
       "      <td>NaN</td>\n",
       "      <td>NaN</td>\n",
       "      <td>NaN</td>\n",
       "      <td>NaN</td>\n",
       "    </tr>\n",
       "    <tr>\n",
       "      <th>1</th>\n",
       "      <td>2017-01-07</td>\n",
       "      <td>13190270</td>\n",
       "      <td>NaN</td>\n",
       "      <td>NaN</td>\n",
       "      <td>NaN</td>\n",
       "      <td>NaN</td>\n",
       "    </tr>\n",
       "    <tr>\n",
       "      <th>2</th>\n",
       "      <td>2017-01-08</td>\n",
       "      <td>13099919</td>\n",
       "      <td>NaN</td>\n",
       "      <td>NaN</td>\n",
       "      <td>NaN</td>\n",
       "      <td>NaN</td>\n",
       "    </tr>\n",
       "    <tr>\n",
       "      <th>3</th>\n",
       "      <td>2017-01-09</td>\n",
       "      <td>14506351</td>\n",
       "      <td>NaN</td>\n",
       "      <td>NaN</td>\n",
       "      <td>NaN</td>\n",
       "      <td>NaN</td>\n",
       "    </tr>\n",
       "    <tr>\n",
       "      <th>4</th>\n",
       "      <td>2017-01-10</td>\n",
       "      <td>14275628</td>\n",
       "      <td>NaN</td>\n",
       "      <td>NaN</td>\n",
       "      <td>NaN</td>\n",
       "      <td>NaN</td>\n",
       "    </tr>\n",
       "    <tr>\n",
       "      <th>...</th>\n",
       "      <td>...</td>\n",
       "      <td>...</td>\n",
       "      <td>...</td>\n",
       "      <td>...</td>\n",
       "      <td>...</td>\n",
       "      <td>...</td>\n",
       "    </tr>\n",
       "    <tr>\n",
       "      <th>361</th>\n",
       "      <td>2018-01-05</td>\n",
       "      <td>4492978</td>\n",
       "      <td>3450315.0</td>\n",
       "      <td>2408365.0</td>\n",
       "      <td>2685857.0</td>\n",
       "      <td>2869783.0</td>\n",
       "    </tr>\n",
       "    <tr>\n",
       "      <th>362</th>\n",
       "      <td>2018-01-06</td>\n",
       "      <td>4416476</td>\n",
       "      <td>3394284.0</td>\n",
       "      <td>2188035.0</td>\n",
       "      <td>2559044.0</td>\n",
       "      <td>2743748.0</td>\n",
       "    </tr>\n",
       "    <tr>\n",
       "      <th>363</th>\n",
       "      <td>2018-01-07</td>\n",
       "      <td>4009104</td>\n",
       "      <td>3020789.0</td>\n",
       "      <td>1908129.0</td>\n",
       "      <td>2350985.0</td>\n",
       "      <td>2441045.0</td>\n",
       "    </tr>\n",
       "    <tr>\n",
       "      <th>364</th>\n",
       "      <td>2018-01-08</td>\n",
       "      <td>4135505</td>\n",
       "      <td>2755266.0</td>\n",
       "      <td>2023251.0</td>\n",
       "      <td>2523265.0</td>\n",
       "      <td>2622693.0</td>\n",
       "    </tr>\n",
       "    <tr>\n",
       "      <th>365</th>\n",
       "      <td>2018-01-09</td>\n",
       "      <td>4168506</td>\n",
       "      <td>2791601.0</td>\n",
       "      <td>2058016.0</td>\n",
       "      <td>2727678.0</td>\n",
       "      <td>2627334.0</td>\n",
       "    </tr>\n",
       "  </tbody>\n",
       "</table>\n",
       "<p>366 rows × 6 columns</p>\n",
       "</div>"
      ],
      "text/plain": [
       "           Date  Shape of You  Despacito  Something Just Like This    HUMBLE.  \\\n",
       "0    2017-01-06      12287078        NaN                       NaN        NaN   \n",
       "1    2017-01-07      13190270        NaN                       NaN        NaN   \n",
       "2    2017-01-08      13099919        NaN                       NaN        NaN   \n",
       "3    2017-01-09      14506351        NaN                       NaN        NaN   \n",
       "4    2017-01-10      14275628        NaN                       NaN        NaN   \n",
       "..          ...           ...        ...                       ...        ...   \n",
       "361  2018-01-05       4492978  3450315.0                 2408365.0  2685857.0   \n",
       "362  2018-01-06       4416476  3394284.0                 2188035.0  2559044.0   \n",
       "363  2018-01-07       4009104  3020789.0                 1908129.0  2350985.0   \n",
       "364  2018-01-08       4135505  2755266.0                 2023251.0  2523265.0   \n",
       "365  2018-01-09       4168506  2791601.0                 2058016.0  2727678.0   \n",
       "\n",
       "     Unforgettable  \n",
       "0              NaN  \n",
       "1              NaN  \n",
       "2              NaN  \n",
       "3              NaN  \n",
       "4              NaN  \n",
       "..             ...  \n",
       "361      2869783.0  \n",
       "362      2743748.0  \n",
       "363      2441045.0  \n",
       "364      2622693.0  \n",
       "365      2627334.0  \n",
       "\n",
       "[366 rows x 6 columns]"
      ]
     },
     "execution_count": 5,
     "metadata": {},
     "output_type": "execute_result"
    }
   ],
   "source": [
    "spotify_data"
   ]
  },
  {
   "cell_type": "code",
   "execution_count": 6,
   "metadata": {},
   "outputs": [],
   "source": [
    "spotify_data = pd.read_csv(spotify_filepath, index_col=\"Date\", parse_dates=True)"
   ]
  },
  {
   "cell_type": "code",
   "execution_count": 7,
   "metadata": {},
   "outputs": [
    {
     "data": {
      "text/plain": [
       "<matplotlib.axes._subplots.AxesSubplot at 0x7f9e01465050>"
      ]
     },
     "execution_count": 7,
     "metadata": {},
     "output_type": "execute_result"
    },
    {
     "data": {
      "image/png": "[encoded data removed]",
      "text/plain": [
       "<Figure size 432x288 with 1 Axes>"
      ]
     },
     "metadata": {
      "needs_background": "light"
     },
     "output_type": "display_data"
    }
   ],
   "source": []
  },
  {
   "cell_type": "code",
   "execution_count": null,
   "metadata": {},
   "outputs": [],
   "source": []
  }
 ],
 "metadata": {
  "kernelspec": {
   "display_name": "Python 3",
   "language": "python",
   "name": "python3"
  },
  "language_info": {
   "codemirror_mode": {
    "name": "ipython",
    "version": 3
   },
   "file_extension": ".py",
   "mimetype": "text/x-python",
   "name": "python",
   "nbconvert_exporter": "python",
   "pygments_lexer": "ipython3",
   "version": "3.7.7"
  }
 },
 "nbformat": 4,
 "nbformat_minor": 4
}
