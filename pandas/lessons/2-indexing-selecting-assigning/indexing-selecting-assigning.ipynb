{
 "cells": [
  {
   "cell_type": "markdown",
   "metadata": {},
   "source": [
    "# Pandas lesson from kaggle\n",
    "### Lesson 2  indexing-selecting-assigning\n",
    "\n",
    "\n",
    "Introduction\n",
    "\n",
    "Selecting specific values of a pandas DataFrame or Series to work on is an implicit step in almost any data operation you'll run, so one of the first things you need to learn in working with data in Python is how to go about selecting the data points relevant to you quickly and effectively.\n"
   ]
  },
  {
   "cell_type": "code",
   "execution_count": 1,
   "metadata": {},
   "outputs": [],
   "source": [
    "import pandas as pd"
   ]
  },
  {
   "cell_type": "code",
   "execution_count": 3,
   "metadata": {},
   "outputs": [],
   "source": [
    "# Practice starts here\n",
    "reviews = pd.read_csv(\"../input/wine-reviews/winemag-data_first150k.csv\", index_col=0)\n",
    "pd.set_option('max_rows', 5)"
   ]
  },
  {
   "cell_type": "code",
   "execution_count": 17,
   "metadata": {},
   "outputs": [
    {
     "data": {
      "text/plain": [
       "0             US\n",
       "1          Spain\n",
       "           ...  \n",
       "150928    France\n",
       "150929     Italy\n",
       "Name: country, Length: 150930, dtype: object"
      ]
     },
     "execution_count": 17,
     "metadata": {},
     "output_type": "execute_result"
    }
   ],
   "source": [
    "# Selection is column first then row\n",
    "reviews.country"
   ]
  },
  {
   "cell_type": "code",
   "execution_count": 28,
   "metadata": {},
   "outputs": [
    {
     "data": {
      "text/plain": [
       "0        US\n",
       "1     Spain\n",
       "2        US\n",
       "3        US\n",
       "4    France\n",
       "Name: country, dtype: object"
      ]
     },
     "execution_count": 28,
     "metadata": {},
     "output_type": "execute_result"
    }
   ],
   "source": [
    "# Selection is column first then row\n",
    "reviews['country'][:5]"
   ]
  },
  {
   "cell_type": "code",
   "execution_count": 53,
   "metadata": {},
   "outputs": [
    {
     "data": {
      "text/plain": [
       "1    Carodorum Selección Especial Reserva\n",
       "5                               Numanthia\n",
       "3                                 Reserve\n",
       "Name: designation, dtype: object"
      ]
     },
     "execution_count": 53,
     "metadata": {},
     "output_type": "execute_result"
    }
   ],
   "source": [
    "# Selection is row first then column\n",
    "reviews.iloc[[1,5,3],2]"
   ]
  },
  {
   "cell_type": "code",
   "execution_count": 51,
   "metadata": {},
   "outputs": [
    {
     "name": "stdout",
     "output_type": "stream",
     "text": [
      "Help on property:\n",
      "\n",
      "    Purely integer-location based indexing for selection by position.\n",
      "    \n",
      "    ``.iloc[]`` is primarily integer position based (from ``0`` to\n",
      "    ``length-1`` of the axis), but may also be used with a boolean\n",
      "    array.\n",
      "    \n",
      "    Allowed inputs are:\n",
      "    \n",
      "    - An integer, e.g. ``5``.\n",
      "    - A list or array of integers, e.g. ``[4, 3, 0]``.\n",
      "    - A slice object with ints, e.g. ``1:7``.\n",
      "    - A boolean array.\n",
      "    - A ``callable`` function with one argument (the calling Series, DataFrame\n",
      "      or Panel) and that returns valid output for indexing (one of the above).\n",
      "      This is useful in method chains, when you don't have a reference to the\n",
      "      calling object, but would like to base your selection on some value.\n",
      "    \n",
      "    ``.iloc`` will raise ``IndexError`` if a requested indexer is\n",
      "    out-of-bounds, except *slice* indexers which allow out-of-bounds\n",
      "    indexing (this conforms with python/numpy *slice* semantics).\n",
      "    \n",
      "    See more at ref:`Selection by Position <indexing.integer>`.\n",
      "    \n",
      "    See Also\n",
      "    --------\n",
      "    DataFrame.iat : Fast integer location scalar accessor.\n",
      "    DataFrame.loc : Purely label-location based indexer for selection by label.\n",
      "    Series.iloc : Purely integer-location based indexing for\n",
      "                   selection by position.\n",
      "    \n",
      "    Examples\n",
      "    --------\n",
      "    \n",
      "    >>> mydict = [{'a': 1, 'b': 2, 'c': 3, 'd': 4},\n",
      "    ...           {'a': 100, 'b': 200, 'c': 300, 'd': 400},\n",
      "    ...           {'a': 1000, 'b': 2000, 'c': 3000, 'd': 4000 }]\n",
      "    >>> df = pd.DataFrame(mydict)\n",
      "    >>> df\n",
      "          a     b     c     d\n",
      "    0     1     2     3     4\n",
      "    1   100   200   300   400\n",
      "    2  1000  2000  3000  4000\n",
      "    \n",
      "    **Indexing just the rows**\n",
      "    \n",
      "    With a scalar integer.\n",
      "    \n",
      "    >>> type(df.iloc[0])\n",
      "    <class 'pandas.core.series.Series'>\n",
      "    >>> df.iloc[0]\n",
      "    a    1\n",
      "    b    2\n",
      "    c    3\n",
      "    d    4\n",
      "    Name: 0, dtype: int64\n",
      "    \n",
      "    With a list of integers.\n",
      "    \n",
      "    >>> df.iloc[[0]]\n",
      "       a  b  c  d\n",
      "    0  1  2  3  4\n",
      "    >>> type(df.iloc[[0]])\n",
      "    <class 'pandas.core.frame.DataFrame'>\n",
      "    \n",
      "    >>> df.iloc[[0, 1]]\n",
      "         a    b    c    d\n",
      "    0    1    2    3    4\n",
      "    1  100  200  300  400\n",
      "    \n",
      "    With a `slice` object.\n",
      "    \n",
      "    >>> df.iloc[:3]\n",
      "          a     b     c     d\n",
      "    0     1     2     3     4\n",
      "    1   100   200   300   400\n",
      "    2  1000  2000  3000  4000\n",
      "    \n",
      "    With a boolean mask the same length as the index.\n",
      "    \n",
      "    >>> df.iloc[[True, False, True]]\n",
      "          a     b     c     d\n",
      "    0     1     2     3     4\n",
      "    2  1000  2000  3000  4000\n",
      "    \n",
      "    With a callable, useful in method chains. The `x` passed\n",
      "    to the ``lambda`` is the DataFrame being sliced. This selects\n",
      "    the rows whose index label even.\n",
      "    \n",
      "    >>> df.iloc[lambda x: x.index % 2 == 0]\n",
      "          a     b     c     d\n",
      "    0     1     2     3     4\n",
      "    2  1000  2000  3000  4000\n",
      "    \n",
      "    **Indexing both axes**\n",
      "    \n",
      "    You can mix the indexer types for the index and columns. Use ``:`` to\n",
      "    select the entire axis.\n",
      "    \n",
      "    With scalar integers.\n",
      "    \n",
      "    >>> df.iloc[0, 1]\n",
      "    2\n",
      "    \n",
      "    With lists of integers.\n",
      "    \n",
      "    >>> df.iloc[[0, 2], [1, 3]]\n",
      "          b     d\n",
      "    0     2     4\n",
      "    2  2000  4000\n",
      "    \n",
      "    With `slice` objects.\n",
      "    \n",
      "    >>> df.iloc[1:3, 0:3]\n",
      "          a     b     c\n",
      "    1   100   200   300\n",
      "    2  1000  2000  3000\n",
      "    \n",
      "    With a boolean array whose length matches the columns.\n",
      "    \n",
      "    >>> df.iloc[:, [True, False, True, False]]\n",
      "          a     c\n",
      "    0     1     3\n",
      "    1   100   300\n",
      "    2  1000  3000\n",
      "    \n",
      "    With a callable function that expects the Series or DataFrame.\n",
      "    \n",
      "    >>> df.iloc[:, lambda df: [0, 2]]\n",
      "          a     c\n",
      "    0     1     3\n",
      "    1   100   300\n",
      "    2  1000  3000\n",
      "\n"
     ]
    }
   ],
   "source": [
    "help(pd.Series.iloc)"
   ]
  },
  {
   "cell_type": "code",
   "execution_count": 54,
   "metadata": {},
   "outputs": [
    {
     "data": {
      "text/plain": [
       "1"
      ]
     },
     "execution_count": 54,
     "metadata": {},
     "output_type": "execute_result"
    }
   ],
   "source": [
    "1 or 1"
   ]
  },
  {
   "cell_type": "code",
   "execution_count": 59,
   "metadata": {},
   "outputs": [
    {
     "data": {
      "text/plain": [
       "False"
      ]
     },
     "execution_count": 59,
     "metadata": {},
     "output_type": "execute_result"
    }
   ],
   "source": [
    "True  False"
   ]
  },
  {
   "cell_type": "code",
   "execution_count": 60,
   "metadata": {},
   "outputs": [
    {
     "data": {
      "text/plain": [
       "<bound method Series.isnull of 0         235.0\n",
       "1         110.0\n",
       "          ...  \n",
       "150928     52.0\n",
       "150929     15.0\n",
       "Name: price, Length: 150930, dtype: float64>"
      ]
     },
     "execution_count": 60,
     "metadata": {},
     "output_type": "execute_result"
    }
   ],
   "source": [
    "reviews.price.isnull"
   ]
  },
  {
   "cell_type": "code",
   "execution_count": 63,
   "metadata": {},
   "outputs": [
    {
     "data": {
      "text/html": [
       "<div>\n",
       "<style scoped>\n",
       "    .dataframe tbody tr th:only-of-type {\n",
       "        vertical-align: middle;\n",
       "    }\n",
       "\n",
       "    .dataframe tbody tr th {\n",
       "        vertical-align: top;\n",
       "    }\n",
       "\n",
       "    .dataframe thead th {\n",
       "        text-align: right;\n",
       "    }\n",
       "</style>\n",
       "<table border=\"1\" class=\"dataframe\">\n",
       "  <thead>\n",
       "    <tr style=\"text-align: right;\">\n",
       "      <th></th>\n",
       "      <th>country</th>\n",
       "      <th>price</th>\n",
       "    </tr>\n",
       "  </thead>\n",
       "  <tbody>\n",
       "    <tr>\n",
       "      <th>32</th>\n",
       "      <td>Italy</td>\n",
       "      <td>NaN</td>\n",
       "    </tr>\n",
       "    <tr>\n",
       "      <th>56</th>\n",
       "      <td>France</td>\n",
       "      <td>NaN</td>\n",
       "    </tr>\n",
       "    <tr>\n",
       "      <th>...</th>\n",
       "      <td>...</td>\n",
       "      <td>...</td>\n",
       "    </tr>\n",
       "    <tr>\n",
       "      <th>150673</th>\n",
       "      <td>US</td>\n",
       "      <td>NaN</td>\n",
       "    </tr>\n",
       "    <tr>\n",
       "      <th>150922</th>\n",
       "      <td>Italy</td>\n",
       "      <td>NaN</td>\n",
       "    </tr>\n",
       "  </tbody>\n",
       "</table>\n",
       "<p>13695 rows × 2 columns</p>\n",
       "</div>"
      ],
      "text/plain": [
       "       country  price\n",
       "32       Italy    NaN\n",
       "56      France    NaN\n",
       "...        ...    ...\n",
       "150673      US    NaN\n",
       "150922   Italy    NaN\n",
       "\n",
       "[13695 rows x 2 columns]"
      ]
     },
     "execution_count": 63,
     "metadata": {},
     "output_type": "execute_result"
    }
   ],
   "source": [
    "reviews.loc[reviews.price.isnull(), ['country', 'price']]"
   ]
  },
  {
   "cell_type": "code",
   "execution_count": 64,
   "metadata": {},
   "outputs": [],
   "source": [
    "# Practice over"
   ]
  },
  {
   "cell_type": "code",
   "execution_count": null,
   "metadata": {},
   "outputs": [],
   "source": []
  }
 ],
 "metadata": {
  "kernelspec": {
   "display_name": "Python 3",
   "language": "python",
   "name": "python3"
  },
  "language_info": {
   "codemirror_mode": {
    "name": "ipython",
    "version": 3
   },
   "file_extension": ".py",
   "mimetype": "text/x-python",
   "name": "python",
   "nbconvert_exporter": "python",
   "pygments_lexer": "ipython3",
   "version": "3.7.3"
  }
 },
 "nbformat": 4,
 "nbformat_minor": 2
}
