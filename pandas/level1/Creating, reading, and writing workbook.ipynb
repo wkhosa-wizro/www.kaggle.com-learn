{
  "cells": [
    {
      "metadata": {
        "_uuid": "6a0e308db0c7a66851960bb0ae02c8f06dd2a237"
      },
      "cell_type": "markdown",
      "source": "**[Pandas Course Home Page](https://www.kaggle.com/learn/pandas)**\n\n---\n"
    },
    {
      "metadata": {
        "_uuid": "91c04561598e6f80c4a74e6145624036b48b0051"
      },
      "cell_type": "markdown",
      "source": "# Introduction\nWelcome to the **[Learn Pandas](https://www.kaggle.com/learn/pandas)** track. These hands-on exercises are targeted for someone who has worked with Pandas a little before. \nEach page has a list of `relevant resources` you can use if you get stumped. The top item in each list has been custom-made to help you with the exercises on that page.\n\nThe first step in most data analytics projects is reading the data file. In this section, you'll create `Series` and `DataFrame` objects, both by hand and by reading data files.\n\n# Relevant Resources\n* **[Creating, Reading and Writing Reference](https://www.kaggle.com/residentmario/creating-reading-and-writing-reference)**\n* [General Pandas Cheat Sheet](https://assets.datacamp.com/blog_assets/PandasPythonForDataScience.pdf)\n\n# Set Up\n\nRun the code cell below to load libraries you will need (including code to check your answers)."
    },
    {
      "metadata": {
        "trusted": true,
        "_uuid": "f55227ab2b2229d380def5297c1205a0d230aed2"
      },
      "cell_type": "code",
      "source": "import pandas as pd\npd.set_option('max_rows', 5)\nfrom learntools.core import binder; binder.bind(globals())\nfrom learntools.pandas.creating_reading_and_writing import *\nprint(\"Setup complete.\")",
      "execution_count": 1,
      "outputs": [
        {
          "output_type": "stream",
          "text": "Setup complete.\n",
          "name": "stdout"
        }
      ]
    },
    {
      "metadata": {
        "_uuid": "dfb9548b2a03a8c6e61a4ceb25113ac54f0d72ca"
      },
      "cell_type": "markdown",
      "source": "# Exercises"
    },
    {
      "metadata": {
        "_uuid": "ed4aa3c62655a56dc32e1234abceafe7cd1c0393"
      },
      "cell_type": "markdown",
      "source": "## 1.\n\nIn the cell below, create a DataFrame `fruits` that looks like this:\n\n![](https://i.imgur.com/Ax3pp2A.png)"
    },
    {
      "metadata": {
        "trusted": true,
        "_uuid": "e4ccbea9096e2bc705a38b29d4a5a17470c9a056"
      },
      "cell_type": "code",
      "source": "# Your code goes here. Create a dataframe matching the above diagram and assign it to the variable fruits.\nfruits = pd.DataFrame(data=[[30, 21]], columns=[\"Apples\", \"Bananas\"])\n\nq1.check()\nfruits",
      "execution_count": 2,
      "outputs": [
        {
          "output_type": "display_data",
          "data": {
            "text/plain": "<IPython.core.display.Javascript object>",
            "application/javascript": "parent.postMessage({\"jupyterEvent\": \"custom.exercise_interaction\", \"data\": {\"outcomeType\": 1, \"valueTowardsCompletion\": 0.16666666666666666, \"interactionType\": 1, \"learnTutorialId\": 45, \"questionId\": \"1_FruitDfCreation\", \"learnToolsVersion\": \"0.2.11\", \"failureMessage\": \"\", \"exceptionClass\": \"\", \"trace\": \"\"}}, \"*\")"
          },
          "metadata": {}
        },
        {
          "output_type": "display_data",
          "data": {
            "text/plain": "Correct",
            "text/markdown": "<span style=\"color:#33cc33\">Correct</span>"
          },
          "metadata": {}
        },
        {
          "output_type": "execute_result",
          "execution_count": 2,
          "data": {
            "text/plain": "   Apples  Bananas\n0      30       21",
            "text/html": "<div>\n<style scoped>\n    .dataframe tbody tr th:only-of-type {\n        vertical-align: middle;\n    }\n\n    .dataframe tbody tr th {\n        vertical-align: top;\n    }\n\n    .dataframe thead th {\n        text-align: right;\n    }\n</style>\n<table border=\"1\" class=\"dataframe\">\n  <thead>\n    <tr style=\"text-align: right;\">\n      <th></th>\n      <th>Apples</th>\n      <th>Bananas</th>\n    </tr>\n  </thead>\n  <tbody>\n    <tr>\n      <th>0</th>\n      <td>30</td>\n      <td>21</td>\n    </tr>\n  </tbody>\n</table>\n</div>"
          },
          "metadata": {}
        }
      ]
    },
    {
      "metadata": {
        "trusted": false,
        "_uuid": "37d9c586880a54a7c345d17185df2e6d1b809485"
      },
      "cell_type": "code",
      "source": "#q1.hint()\n#q1.solution()",
      "execution_count": null,
      "outputs": []
    },
    {
      "metadata": {
        "_uuid": "93cdb04f477375a7ac2e840e8f071b1c91d027d5"
      },
      "cell_type": "markdown",
      "source": "## 2.\n\nCreate a dataframe `fruit_sales` that matches the diagram below:\n\n![](https://i.imgur.com/CHPn7ZF.png)"
    },
    {
      "metadata": {
        "trusted": true,
        "_uuid": "f687609197bd34d9f870c317afbde96b6c8032c8"
      },
      "cell_type": "code",
      "source": "# Your code goes here. Create a dataframe matching the above diagram and assign it to the variable fruit_sales.\nfruit_sales = pd.DataFrame(data={\"Apples\" : [35, 41], \"Bananas\" : [21, 34]}, index=[\"2017 Sales\", \"2018 Sales\"])\n\nq2.check()\nfruit_sales",
      "execution_count": 3,
      "outputs": [
        {
          "output_type": "display_data",
          "data": {
            "text/plain": "<IPython.core.display.Javascript object>",
            "application/javascript": "parent.postMessage({\"jupyterEvent\": \"custom.exercise_interaction\", \"data\": {\"outcomeType\": 1, \"valueTowardsCompletion\": 0.16666666666666666, \"interactionType\": 1, \"learnTutorialId\": 45, \"questionId\": \"2_FruitSalesDfCreation\", \"learnToolsVersion\": \"0.2.11\", \"failureMessage\": \"\", \"exceptionClass\": \"\", \"trace\": \"\"}}, \"*\")"
          },
          "metadata": {}
        },
        {
          "output_type": "display_data",
          "data": {
            "text/plain": "Correct",
            "text/markdown": "<span style=\"color:#33cc33\">Correct</span>"
          },
          "metadata": {}
        },
        {
          "output_type": "execute_result",
          "execution_count": 3,
          "data": {
            "text/plain": "            Apples  Bananas\n2017 Sales      35       21\n2018 Sales      41       34",
            "text/html": "<div>\n<style scoped>\n    .dataframe tbody tr th:only-of-type {\n        vertical-align: middle;\n    }\n\n    .dataframe tbody tr th {\n        vertical-align: top;\n    }\n\n    .dataframe thead th {\n        text-align: right;\n    }\n</style>\n<table border=\"1\" class=\"dataframe\">\n  <thead>\n    <tr style=\"text-align: right;\">\n      <th></th>\n      <th>Apples</th>\n      <th>Bananas</th>\n    </tr>\n  </thead>\n  <tbody>\n    <tr>\n      <th>2017 Sales</th>\n      <td>35</td>\n      <td>21</td>\n    </tr>\n    <tr>\n      <th>2018 Sales</th>\n      <td>41</td>\n      <td>34</td>\n    </tr>\n  </tbody>\n</table>\n</div>"
          },
          "metadata": {}
        }
      ]
    },
    {
      "metadata": {
        "trusted": true,
        "_uuid": "2336f0ddc470b67134217c5d7d47b8af8aaa877e"
      },
      "cell_type": "code",
      "source": "#q2.hint()\n#q2.solution()",
      "execution_count": null,
      "outputs": []
    },
    {
      "metadata": {
        "_uuid": "66b02e4b51ad2708c2d3cebf839943c2cbb6d788"
      },
      "cell_type": "markdown",
      "source": "## 3.\n\nCreate a variable `ingredients` with a `pd.Series` that looks like:\n\n```\nFlour     4 cups\nMilk       1 cup\nEggs     2 large\nSpam       1 can\nName: Dinner, dtype: object\n```"
    },
    {
      "metadata": {
        "trusted": true,
        "_uuid": "0ca33ac4cf76e94dc832e8b5a0da21397fd877e6"
      },
      "cell_type": "code",
      "source": "ingredients = pd.Series(data={\"Flour\":\"4 cups\", \"Milk\": \"1 cup\", \"Eggs\": \"2 large\", \"Spam\" : \"1 can\"}, name='Dinner')\n\nq3.check()\ningredients",
      "execution_count": 4,
      "outputs": [
        {
          "output_type": "display_data",
          "data": {
            "text/plain": "<IPython.core.display.Javascript object>",
            "application/javascript": "parent.postMessage({\"jupyterEvent\": \"custom.exercise_interaction\", \"data\": {\"outcomeType\": 1, \"valueTowardsCompletion\": 0.16666666666666666, \"interactionType\": 1, \"learnTutorialId\": 45, \"questionId\": \"3_RecipeSeriesCreation\", \"learnToolsVersion\": \"0.2.11\", \"failureMessage\": \"\", \"exceptionClass\": \"\", \"trace\": \"\"}}, \"*\")"
          },
          "metadata": {}
        },
        {
          "output_type": "display_data",
          "data": {
            "text/plain": "Correct",
            "text/markdown": "<span style=\"color:#33cc33\">Correct</span>"
          },
          "metadata": {}
        },
        {
          "output_type": "execute_result",
          "execution_count": 4,
          "data": {
            "text/plain": "Flour     4 cups\nMilk       1 cup\nEggs     2 large\nSpam       1 can\nName: Dinner, dtype: object"
          },
          "metadata": {}
        }
      ]
    },
    {
      "metadata": {
        "trusted": false,
        "_uuid": "6d32c97c93a98cd99012dd6b57d53ecf5962d6d5"
      },
      "cell_type": "code",
      "source": "#q3.hint()\n#q3.solution()",
      "execution_count": null,
      "outputs": []
    },
    {
      "metadata": {
        "_uuid": "7154b10da7f183d9aaa15aaac9e0ef30b6354b48"
      },
      "cell_type": "markdown",
      "source": "## 4.\n\nRead the following csv dataset of wine reviews into a DataFrame called `reviews`:\n\n![](https://i.imgur.com/74RCZtU.png)\n\nThe filepath to the csv file is `../input/wine-reviews/winemag-data_first150k.csv`. The first few lines look like:\n\n```\n,country,description,designation,points,price,province,region_1,region_2,variety,winery\n0,US,\"This tremendous 100% varietal wine[...]\",Martha's Vineyard,96,235.0,California,Napa Valley,Napa,Cabernet Sauvignon,Heitz\n1,Spain,\"Ripe aromas of fig, blackberry and[...]\",Carodorum Selección Especial Reserva,96,110.0,Northern Spain,Toro,,Tinta de Toro,Bodega Carmen Rodríguez\n```"
    },
    {
      "metadata": {
        "trusted": true,
        "_uuid": "c11fa2091cf3a475c79192036e4004ab87fe6d37"
      },
      "cell_type": "code",
      "source": "#For the reaseon on using index_col=0 check [link1](https://towardsdatascience.com/pandas-dataframe-playing-with-csv-files-944225d19ff)\n# and [link2](https://stackoverflow.com/questions/12960574/pandas-read-csv-index-col-none-not-working-with-delimiters-at-the-end-of-each-li)\n# shows that index_col=0 is used when index=False or index_col=False is giving trouble\nreviews = pd.read_csv(r'../input/wine-reviews/winemag-data_first150k.csv', index_col=0)\n\nq4.check()\nreviews\nreviews",
      "execution_count": 5,
      "outputs": [
        {
          "output_type": "display_data",
          "data": {
            "text/plain": "<IPython.core.display.Javascript object>",
            "application/javascript": "parent.postMessage({\"jupyterEvent\": \"custom.exercise_interaction\", \"data\": {\"outcomeType\": 1, \"valueTowardsCompletion\": 0.16666666666666666, \"interactionType\": 1, \"learnTutorialId\": 45, \"questionId\": \"4_ReadWineCsv\", \"learnToolsVersion\": \"0.2.11\", \"failureMessage\": \"\", \"exceptionClass\": \"\", \"trace\": \"\"}}, \"*\")"
          },
          "metadata": {}
        },
        {
          "output_type": "display_data",
          "data": {
            "text/plain": "Correct",
            "text/markdown": "<span style=\"color:#33cc33\">Correct</span>"
          },
          "metadata": {}
        },
        {
          "output_type": "execute_result",
          "execution_count": 5,
          "data": {
            "text/plain": "       country           ...                              winery\n0           US           ...                               Heitz\n1        Spain           ...             Bodega Carmen Rodríguez\n...        ...           ...                                 ...\n150928  France           ...                              Gosset\n150929   Italy           ...                       Alois Lageder\n\n[150930 rows x 10 columns]",
            "text/html": "<div>\n<style scoped>\n    .dataframe tbody tr th:only-of-type {\n        vertical-align: middle;\n    }\n\n    .dataframe tbody tr th {\n        vertical-align: top;\n    }\n\n    .dataframe thead th {\n        text-align: right;\n    }\n</style>\n<table border=\"1\" class=\"dataframe\">\n  <thead>\n    <tr style=\"text-align: right;\">\n      <th></th>\n      <th>country</th>\n      <th>description</th>\n      <th>designation</th>\n      <th>points</th>\n      <th>price</th>\n      <th>province</th>\n      <th>region_1</th>\n      <th>region_2</th>\n      <th>variety</th>\n      <th>winery</th>\n    </tr>\n  </thead>\n  <tbody>\n    <tr>\n      <th>0</th>\n      <td>US</td>\n      <td>This tremendous 100% varietal wine hails from ...</td>\n      <td>Martha's Vineyard</td>\n      <td>96</td>\n      <td>235.0</td>\n      <td>California</td>\n      <td>Napa Valley</td>\n      <td>Napa</td>\n      <td>Cabernet Sauvignon</td>\n      <td>Heitz</td>\n    </tr>\n    <tr>\n      <th>1</th>\n      <td>Spain</td>\n      <td>Ripe aromas of fig, blackberry and cassis are ...</td>\n      <td>Carodorum Selección Especial Reserva</td>\n      <td>96</td>\n      <td>110.0</td>\n      <td>Northern Spain</td>\n      <td>Toro</td>\n      <td>NaN</td>\n      <td>Tinta de Toro</td>\n      <td>Bodega Carmen Rodríguez</td>\n    </tr>\n    <tr>\n      <th>...</th>\n      <td>...</td>\n      <td>...</td>\n      <td>...</td>\n      <td>...</td>\n      <td>...</td>\n      <td>...</td>\n      <td>...</td>\n      <td>...</td>\n      <td>...</td>\n      <td>...</td>\n    </tr>\n    <tr>\n      <th>150928</th>\n      <td>France</td>\n      <td>A perfect salmon shade, with scents of peaches...</td>\n      <td>Grand Brut Rosé</td>\n      <td>90</td>\n      <td>52.0</td>\n      <td>Champagne</td>\n      <td>Champagne</td>\n      <td>NaN</td>\n      <td>Champagne Blend</td>\n      <td>Gosset</td>\n    </tr>\n    <tr>\n      <th>150929</th>\n      <td>Italy</td>\n      <td>More Pinot Grigios should taste like this. A r...</td>\n      <td>NaN</td>\n      <td>90</td>\n      <td>15.0</td>\n      <td>Northeastern Italy</td>\n      <td>Alto Adige</td>\n      <td>NaN</td>\n      <td>Pinot Grigio</td>\n      <td>Alois Lageder</td>\n    </tr>\n  </tbody>\n</table>\n<p>150930 rows × 10 columns</p>\n</div>"
          },
          "metadata": {}
        }
      ]
    },
    {
      "metadata": {
        "trusted": true,
        "_uuid": "07ff09dbb29ecc14526af53c89e6be187038ba32"
      },
      "cell_type": "code",
      "source": "q4.hint()\n#q4.solution()",
      "execution_count": null,
      "outputs": []
    },
    {
      "metadata": {
        "_uuid": "0cbf7dd7b58da4ce184128d766b16493ec231c23"
      },
      "cell_type": "markdown",
      "source": "## 5.\n\nRun the cell below to create and display a DataFrame called `animals`:"
    },
    {
      "metadata": {
        "trusted": true,
        "_uuid": "c3f7ab16928aa17fa9d80008762f47d1ddbc2397"
      },
      "cell_type": "code",
      "source": "animals = pd.DataFrame({'Cows': [12, 20], 'Goats': [22, 19]}, index=['Year 1', 'Year 2'])\nanimals",
      "execution_count": 6,
      "outputs": [
        {
          "output_type": "execute_result",
          "execution_count": 6,
          "data": {
            "text/plain": "        Cows  Goats\nYear 1    12     22\nYear 2    20     19",
            "text/html": "<div>\n<style scoped>\n    .dataframe tbody tr th:only-of-type {\n        vertical-align: middle;\n    }\n\n    .dataframe tbody tr th {\n        vertical-align: top;\n    }\n\n    .dataframe thead th {\n        text-align: right;\n    }\n</style>\n<table border=\"1\" class=\"dataframe\">\n  <thead>\n    <tr style=\"text-align: right;\">\n      <th></th>\n      <th>Cows</th>\n      <th>Goats</th>\n    </tr>\n  </thead>\n  <tbody>\n    <tr>\n      <th>Year 1</th>\n      <td>12</td>\n      <td>22</td>\n    </tr>\n    <tr>\n      <th>Year 2</th>\n      <td>20</td>\n      <td>19</td>\n    </tr>\n  </tbody>\n</table>\n</div>"
          },
          "metadata": {}
        }
      ]
    },
    {
      "metadata": {
        "_uuid": "535d54dcc06c8327e6f2e4c248522b0f1e08c55b"
      },
      "cell_type": "markdown",
      "source": "In the cell below, write code to save this DataFrame to disk as a csv file with the name `cows_and_goats.csv`."
    },
    {
      "metadata": {
        "trusted": true,
        "_uuid": "d0762f8bbd84d2ab680ce4076bf4fac3ef7d060e"
      },
      "cell_type": "code",
      "source": "# Your code goes here\nanimals.to_csv(r'cows_and_goats.csv')\nq5.check()",
      "execution_count": 7,
      "outputs": [
        {
          "output_type": "display_data",
          "data": {
            "text/plain": "<IPython.core.display.Javascript object>",
            "application/javascript": "parent.postMessage({\"jupyterEvent\": \"custom.exercise_interaction\", \"data\": {\"outcomeType\": 1, \"valueTowardsCompletion\": 0.16666666666666666, \"interactionType\": 1, \"learnTutorialId\": 45, \"questionId\": \"5_SaveAnimalsCsv\", \"learnToolsVersion\": \"0.2.11\", \"failureMessage\": \"\", \"exceptionClass\": \"\", \"trace\": \"\"}}, \"*\")"
          },
          "metadata": {}
        },
        {
          "output_type": "display_data",
          "data": {
            "text/plain": "Correct",
            "text/markdown": "<span style=\"color:#33cc33\">Correct</span>"
          },
          "metadata": {}
        }
      ]
    },
    {
      "metadata": {
        "trusted": false,
        "_uuid": "de3975d8b7fbc514e6c5baed2c734c491f8c45a8"
      },
      "cell_type": "code",
      "source": "#q5.hint()\n#q5.solution()",
      "execution_count": null,
      "outputs": []
    },
    {
      "metadata": {
        "_uuid": "6af7319b88ebb75723a168a8d16902df1adbd147"
      },
      "cell_type": "markdown",
      "source": "## 6.\n\nThis exercise is optional. Read the following SQL data into a DataFrame called `music_reviews`:\n\n![](https://i.imgur.com/mmvbOT3.png)\n\nThe filepath is `../input/pitchfork-data/database.sqlite`. Hint: use the `sqlite3` library. The name of the table is `artists`."
    },
    {
      "metadata": {
        "trusted": true,
        "_uuid": "e60ab126644e8300ef910595bf814f6270128a0e"
      },
      "cell_type": "code",
      "source": "import sqlite3 as sq\n\nconn = sq.connect(r'../input/pitchfork-data/database.sqlite')\n\nmusic_reviews = pd.read_sql_query(\"SELECT * FROM artists\", conn)\n\nq6.check()\nmusic_reviews",
      "execution_count": 12,
      "outputs": [
        {
          "output_type": "display_data",
          "data": {
            "text/plain": "<IPython.core.display.Javascript object>",
            "application/javascript": "parent.postMessage({\"jupyterEvent\": \"custom.exercise_interaction\", \"data\": {\"outcomeType\": 1, \"valueTowardsCompletion\": 0.16666666666666666, \"interactionType\": 1, \"learnTutorialId\": 45, \"questionId\": \"6_ReadPitchforkSql\", \"learnToolsVersion\": \"0.2.11\", \"failureMessage\": \"\", \"exceptionClass\": \"\", \"trace\": \"\"}}, \"*\")"
          },
          "metadata": {}
        },
        {
          "output_type": "display_data",
          "data": {
            "text/plain": "Correct",
            "text/markdown": "<span style=\"color:#33cc33\">Correct</span>"
          },
          "metadata": {}
        },
        {
          "output_type": "execute_result",
          "execution_count": 12,
          "data": {
            "text/plain": "       reviewid          artist\n0         22703  massive attack\n1         22721        krallice\n...         ...             ...\n18829      2413   don caballero\n18830      3723  neil hamburger\n\n[18831 rows x 2 columns]",
            "text/html": "<div>\n<style scoped>\n    .dataframe tbody tr th:only-of-type {\n        vertical-align: middle;\n    }\n\n    .dataframe tbody tr th {\n        vertical-align: top;\n    }\n\n    .dataframe thead th {\n        text-align: right;\n    }\n</style>\n<table border=\"1\" class=\"dataframe\">\n  <thead>\n    <tr style=\"text-align: right;\">\n      <th></th>\n      <th>reviewid</th>\n      <th>artist</th>\n    </tr>\n  </thead>\n  <tbody>\n    <tr>\n      <th>0</th>\n      <td>22703</td>\n      <td>massive attack</td>\n    </tr>\n    <tr>\n      <th>1</th>\n      <td>22721</td>\n      <td>krallice</td>\n    </tr>\n    <tr>\n      <th>...</th>\n      <td>...</td>\n      <td>...</td>\n    </tr>\n    <tr>\n      <th>18829</th>\n      <td>2413</td>\n      <td>don caballero</td>\n    </tr>\n    <tr>\n      <th>18830</th>\n      <td>3723</td>\n      <td>neil hamburger</td>\n    </tr>\n  </tbody>\n</table>\n<p>18831 rows × 2 columns</p>\n</div>"
          },
          "metadata": {}
        }
      ]
    },
    {
      "metadata": {
        "trusted": true,
        "_uuid": "d3e2d1b4a4c0b18d76f4b368978d1f5a72542984"
      },
      "cell_type": "code",
      "source": "q6.hint()\n#q6.solution()",
      "execution_count": 8,
      "outputs": [
        {
          "output_type": "display_data",
          "data": {
            "text/plain": "<IPython.core.display.Javascript object>",
            "application/javascript": "parent.postMessage({\"jupyterEvent\": \"custom.exercise_interaction\", \"data\": {\"interactionType\": 2, \"learnTutorialId\": 45, \"questionId\": \"6_ReadPitchforkSql\", \"learnToolsVersion\": \"0.2.11\", \"valueTowardsCompletion\": 0.0, \"failureMessage\": \"\", \"exceptionClass\": \"\", \"trace\": \"\", \"outcomeType\": 4}}, \"*\")"
          },
          "metadata": {}
        },
        {
          "output_type": "display_data",
          "data": {
            "text/plain": "Hint: After importing `sqlite3`, you first need to create a connector.  Then, you can supply an SQL statement to `pd.read_sql_query` to pull all of the data from the `artists` table.  For more information, check out the [Creating, Reading, and Writing Reference](https://www.kaggle.com/residentmario/creating-reading-and-writing-reference).",
            "text/markdown": "<span style=\"color:#3366cc\">Hint:</span> After importing `sqlite3`, you first need to create a connector.  Then, you can supply an SQL statement to `pd.read_sql_query` to pull all of the data from the `artists` table.  For more information, check out the [Creating, Reading, and Writing Reference](https://www.kaggle.com/residentmario/creating-reading-and-writing-reference)."
          },
          "metadata": {}
        }
      ]
    },
    {
      "metadata": {
        "_uuid": "875f68201d783dc0f9c93627669f6ffc069686dc"
      },
      "cell_type": "markdown",
      "source": "## Keep going\n\nMove on to the **[indexing, selecting and assigning workbook](https://www.kaggle.com/kernels/fork/587910)**."
    },
    {
      "metadata": {
        "_uuid": "cb8bd859d1a75784563490a2c0d2a6b413fde2dd"
      },
      "cell_type": "markdown",
      "source": "---\n**[Pandas Course Home Page](https://www.kaggle.com/learn/pandas)**\n\n"
    }
  ],
  "metadata": {
    "kernelspec": {
      "display_name": "Python 3",
      "language": "python",
      "name": "python3"
    },
    "language_info": {
      "name": "python",
      "version": "3.6.6",
      "mimetype": "text/x-python",
      "codemirror_mode": {
        "name": "ipython",
        "version": 3
      },
      "pygments_lexer": "ipython3",
      "nbconvert_exporter": "python",
      "file_extension": ".py"
    }
  },
  "nbformat": 4,
  "nbformat_minor": 1
}