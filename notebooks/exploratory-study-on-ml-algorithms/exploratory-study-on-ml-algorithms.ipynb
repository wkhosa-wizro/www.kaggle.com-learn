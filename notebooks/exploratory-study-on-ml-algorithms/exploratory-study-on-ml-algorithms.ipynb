{
 "cells": [
  {
   "cell_type": "markdown",
   "metadata": {},
   "source": [
    "# Exploratory study on ML algorithms\n",
    "Exploratory study on ML algorithms is a notebook from kaggle by Santhosh Sharma, it can be accessed from [Here](https://www.kaggle.com/sharmasanthosh/exploratory-study-on-ml-algorithms). I have used the original notebook to create this one as I was learning and practicing to machine learning processes in solving practical predictive problems."
   ]
  },
  {
   "cell_type": "markdown",
   "metadata": {},
   "source": [
    "### Data Statistics\n",
    "\n",
    "- Shape\n",
    "- Peek\n",
    "- Skew\n",
    "\n",
    "### Tramsformation\n",
    "\n",
    "- Correction of skew\n",
    "\n",
    "### Data Interaction\n",
    "\n",
    "- Correlation\n",
    "- Scatter plot\n",
    "\n",
    "### Data Visualisation\n",
    "\n",
    "- Box and density plots\n",
    "- Grouping of one hot encoded attributes\n",
    "\n",
    "### Data Preparation\n",
    "\n",
    "- One hot encoding of categorical data\n",
    "- Test-train split\n",
    "\n",
    "### Evaluation, prediction, and analysis\n",
    "\n",
    "- Linear Regression (Linear algo)\n",
    "- Ridge Regression (Linear algo)\n",
    "- LASSO Linear Regression (Linear algo)\n",
    "- Elastic Net Regression (Linear algo)\n",
    "- KNN (Non-linear algo)\n",
    "- CART (Non-linear algo)\n",
    "- SVM (Non-linear algo)\n",
    "- Bagged Decision Trees (Bagging)\n",
    "- Random Forest (Bagging)\n",
    "- Extra Trees (Bagging)\n",
    "- AdaBoost (Boosting)\n",
    "- Stochastic Gradient Boosting (Boosting)\n",
    "- MLP (Deep Learning)\n",
    "- XGBoost\n",
    "\n",
    "### Make Predictions\n"
   ]
  },
  {
   "cell_type": "code",
   "execution_count": null,
   "metadata": {},
   "outputs": [],
   "source": []
  }
 ],
 "metadata": {
  "kernelspec": {
   "display_name": "Python 3",
   "language": "python",
   "name": "python3"
  },
  "language_info": {
   "codemirror_mode": {
    "name": "ipython",
    "version": 3
   },
   "file_extension": ".py",
   "mimetype": "text/x-python",
   "name": "python",
   "nbconvert_exporter": "python",
   "pygments_lexer": "ipython3",
   "version": "3.7.7"
  }
 },
 "nbformat": 4,
 "nbformat_minor": 4
}
