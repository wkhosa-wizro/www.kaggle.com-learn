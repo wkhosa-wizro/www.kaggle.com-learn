{
 "cells": [
  {
   "cell_type": "markdown",
   "metadata": {},
   "source": [
    "# Exploratory study on ML algorithms\n",
    "Exploratory study on ML algorithms is a notebook from kaggle by Santhosh Sharma, it can be accessed from [Here](https://www.kaggle.com/sharmasanthosh/exploratory-study-on-ml-algorithms). I have used the original notebook to create this one as I was learning and practicing to machine learning processes in solving practical predictive problems."
   ]
  },
  {
   "cell_type": "markdown",
   "metadata": {},
   "source": [
    "### Data Statistics\n",
    "\n",
    "- Shape\n",
    "- Peek\n",
    "- Skew\n",
    "\n",
    "### Tramsformation\n",
    "\n",
    "- Correction of skew\n",
    "\n",
    "### Data Interaction\n",
    "\n",
    "- Correlation\n",
    "- Scatter plot\n",
    "\n",
    "### Data Visualisation\n",
    "\n",
    "- Box and density plots\n",
    "- Grouping of one hot encoded attributes\n",
    "\n",
    "### Data Preparation\n",
    "\n",
    "- One hot encoding of categorical data\n",
    "- Test-train split\n",
    "\n",
    "### Evaluation, prediction, and analysis\n",
    "\n",
    "- Linear Regression (Linear algo)\n",
    "- Ridge Regression (Linear algo)\n",
    "- LASSO Linear Regression (Linear algo)\n",
    "- Elastic Net Regression (Linear algo)\n",
    "- KNN (Non-linear algo)\n",
    "- CART (Non-linear algo)\n",
    "- SVM (Non-linear algo)\n",
    "- Bagged Decision Trees (Bagging)\n",
    "- Random Forest (Bagging)\n",
    "- Extra Trees (Bagging)\n",
    "- AdaBoost (Boosting)\n",
    "- Stochastic Gradient Boosting (Boosting)\n",
    "- MLP (Deep Learning)\n",
    "- XGBoost\n",
    "\n",
    "### Make Predictions\n"
   ]
  },
  {
   "cell_type": "markdown",
   "metadata": {},
   "source": [
    "#### Load Raw Data:\n",
    "\n"
   ]
  },
  {
   "cell_type": "code",
   "execution_count": 2,
   "metadata": {},
   "outputs": [],
   "source": [
    "import warnings\n",
    "warnings.filterwarnings('ignore')\n",
    "\n",
    "import pandas as pd\n",
    "\n",
    "train_data_filepath = 'train.csv'\n",
    "test_data_filepath = 'test.csv'\n",
    "\n",
    "train_data = pd.read_csv(train_data_filepath)\n",
    "test_data = pd.read_csv(test_data_filepath)"
   ]
  },
  {
   "cell_type": "code",
   "execution_count": 4,
   "metadata": {},
   "outputs": [
    {
     "name": "stdout",
     "output_type": "stream",
     "text": [
      "\n",
      "The first 5 lines of training data\n",
      "\n",
      "    id cat1 cat2 cat3 cat4 cat5 cat6 cat7 cat8 cat9  ...     cont6     cont7  \\\n",
      "0   1    A    B    A    B    A    A    A    A    B  ...  0.718367  0.335060   \n",
      "1   2    A    B    A    A    A    A    A    A    B  ...  0.438917  0.436585   \n",
      "2   5    A    B    A    A    B    A    A    A    B  ...  0.289648  0.315545   \n",
      "3  10    B    B    A    B    A    A    A    A    B  ...  0.440945  0.391128   \n",
      "4  11    A    B    A    B    A    A    A    A    B  ...  0.178193  0.247408   \n",
      "\n",
      "     cont8    cont9   cont10    cont11    cont12    cont13    cont14     loss  \n",
      "0  0.30260  0.67135  0.83510  0.569745  0.594646  0.822493  0.714843  2213.18  \n",
      "1  0.60087  0.35127  0.43919  0.338312  0.366307  0.611431  0.304496  1283.60  \n",
      "2  0.27320  0.26076  0.32446  0.381398  0.373424  0.195709  0.774425  3005.09  \n",
      "3  0.31796  0.32128  0.44467  0.327915  0.321570  0.605077  0.602642   939.85  \n",
      "4  0.24564  0.22089  0.21230  0.204687  0.202213  0.246011  0.432606  2763.85  \n",
      "\n",
      "[5 rows x 132 columns] \n",
      "The first 5 lines of testing data\n",
      "\n",
      "    id cat1 cat2 cat3 cat4 cat5 cat6 cat7 cat8 cat9  ...     cont5     cont6  \\\n",
      "0   4    A    B    A    A    A    A    A    A    B  ...  0.281143  0.466591   \n",
      "1   6    A    B    A    B    A    A    A    A    B  ...  0.836443  0.482425   \n",
      "2   9    A    B    A    B    B    A    B    A    B  ...  0.718531  0.212308   \n",
      "3  12    A    A    A    A    B    A    A    A    A  ...  0.397069  0.369930   \n",
      "4  15    B    A    A    A    A    B    A    A    A  ...  0.302678  0.398862   \n",
      "\n",
      "      cont7    cont8    cont9   cont10    cont11    cont12    cont13    cont14  \n",
      "0  0.317681  0.61229  0.34365  0.38016  0.377724  0.369858  0.704052  0.392562  \n",
      "1  0.443760  0.71330  0.51890  0.60401  0.689039  0.675759  0.453468  0.208045  \n",
      "2  0.325779  0.29758  0.34365  0.30529  0.245410  0.241676  0.258586  0.297232  \n",
      "3  0.342355  0.40028  0.33237  0.31480  0.348867  0.341872  0.592264  0.555955  \n",
      "4  0.391833  0.23688  0.43731  0.50556  0.359572  0.352251  0.301535  0.825823  \n",
      "\n",
      "[5 rows x 131 columns] \n"
     ]
    }
   ],
   "source": [
    "#Display data\n",
    "\n",
    "print('\\nThe first 5 lines of training data\\n\\n {} \\nThe first 5 lines of testing data\\n\\n {} '.format(train_data.head(5), test_data.head(5)))"
   ]
  },
  {
   "cell_type": "code",
   "execution_count": 5,
   "metadata": {},
   "outputs": [],
   "source": [
    "#Save the id column \n",
    "ID = test_data['id']\n",
    "\n",
    "#drop id column, its only used for indexing it \n",
    "# has no useful meaning on prediction\n",
    "\n",
    "# check pandas drop method 'what is axis?'\n",
    "test_data.drop('id', axis=1, inplace=True)"
   ]
  },
  {
   "cell_type": "code",
   "execution_count": 6,
   "metadata": {},
   "outputs": [],
   "source": [
    "#set pandas to display all columns\n",
    "pd.set_option('display.max_rows', None)\n",
    "pd.set_option('display.max_column', None)"
   ]
  },
  {
   "cell_type": "code",
   "execution_count": 7,
   "metadata": {},
   "outputs": [],
   "source": [
    "train_data.drop('id', axis=1, inplace=True)"
   ]
  },
  {
   "cell_type": "code",
   "execution_count": 8,
   "metadata": {},
   "outputs": [
    {
     "name": "stdout",
     "output_type": "stream",
     "text": [
      "The first 5 lines of training data \n",
      "\n",
      "  cat1 cat2 cat3 cat4 cat5 cat6 cat7 cat8 cat9 cat10 cat11 cat12 cat13 cat14  \\\n",
      "0    A    B    A    B    A    A    A    A    B     A     B     A     A     A   \n",
      "1    A    B    A    A    A    A    A    A    B     B     A     A     A     A   \n",
      "2    A    B    A    A    B    A    A    A    B     B     B     B     B     A   \n",
      "3    B    B    A    B    A    A    A    A    B     A     A     A     A     A   \n",
      "4    A    B    A    B    A    A    A    A    B     B     A     B     A     A   \n",
      "\n",
      "  cat15 cat16 cat17 cat18 cat19 cat20 cat21 cat22 cat23 cat24 cat25 cat26  \\\n",
      "0     A     A     A     A     A     A     A     A     B     A     A     A   \n",
      "1     A     A     A     A     A     A     A     A     A     A     A     A   \n",
      "2     A     A     A     A     A     A     A     A     A     A     A     A   \n",
      "3     A     A     A     A     A     A     A     A     B     A     A     A   \n",
      "4     A     A     A     A     A     A     A     A     B     A     A     A   \n",
      "\n",
      "  cat27 cat28 cat29 cat30 cat31 cat32 cat33 cat34 cat35 cat36 cat37 cat38  \\\n",
      "0     A     A     A     A     A     A     A     A     A     A     A     A   \n",
      "1     A     A     A     A     A     A     A     A     A     A     A     A   \n",
      "2     A     A     A     A     A     A     A     A     A     B     A     A   \n",
      "3     A     A     A     A     A     A     A     A     A     A     A     A   \n",
      "4     A     A     A     A     A     A     A     A     A     A     A     A   \n",
      "\n",
      "  cat39 cat40 cat41 cat42 cat43 cat44 cat45 cat46 cat47 cat48 cat49 cat50  \\\n",
      "0     A     A     A     A     A     A     A     A     A     A     A     A   \n",
      "1     A     A     A     A     A     A     A     A     A     A     A     A   \n",
      "2     A     A     A     A     A     A     A     A     A     A     A     A   \n",
      "3     A     A     A     A     A     A     A     A     A     A     A     A   \n",
      "4     A     A     A     A     A     A     A     A     A     A     A     A   \n",
      "\n",
      "  cat51 cat52 cat53 cat54 cat55 cat56 cat57 cat58 cat59 cat60 cat61 cat62  \\\n",
      "0     A     A     A     A     A     A     A     A     A     A     A     A   \n",
      "1     A     A     A     A     A     A     A     A     A     A     A     A   \n",
      "2     A     A     A     A     A     A     A     A     A     A     A     A   \n",
      "3     A     A     A     A     A     A     A     A     A     A     A     A   \n",
      "4     A     A     A     A     A     A     A     A     A     A     A     A   \n",
      "\n",
      "  cat63 cat64 cat65 cat66 cat67 cat68 cat69 cat70 cat71 cat72 cat73 cat74  \\\n",
      "0     A     A     A     A     A     A     A     A     A     A     A     A   \n",
      "1     A     A     A     A     A     A     A     A     A     A     A     A   \n",
      "2     A     A     A     A     A     A     A     A     A     A     A     A   \n",
      "3     A     A     A     A     A     A     A     A     A     A     B     A   \n",
      "4     A     A     A     A     A     A     A     A     A     B     A     A   \n",
      "\n",
      "  cat75 cat76 cat77 cat78 cat79 cat80 cat81 cat82 cat83 cat84 cat85 cat86  \\\n",
      "0     B     A     D     B     B     D     D     B     D     C     B     D   \n",
      "1     A     A     D     B     B     D     D     A     B     C     B     D   \n",
      "2     A     A     D     B     B     B     D     B     D     C     B     B   \n",
      "3     A     A     D     B     B     D     D     D     B     C     B     D   \n",
      "4     A     A     D     B     D     B     D     B     B     C     B     B   \n",
      "\n",
      "  cat87 cat88 cat89 cat90 cat91 cat92 cat93 cat94 cat95 cat96 cat97 cat98  \\\n",
      "0     B     A     A     A     A     A     D     B     C     E     A     C   \n",
      "1     B     A     A     A     A     A     D     D     C     E     E     D   \n",
      "2     B     A     A     A     A     A     D     D     C     E     E     A   \n",
      "3     B     A     A     A     A     A     D     D     C     E     E     D   \n",
      "4     C     A     A     A     B     H     D     B     D     E     E     A   \n",
      "\n",
      "  cat99 cat100 cat101 cat102 cat103 cat104 cat105 cat106 cat107 cat108 cat109  \\\n",
      "0     T      B      G      A      A      I      E      G      J      G     BU   \n",
      "1     T      L      F      A      A      E      E      I      K      K     BI   \n",
      "2     D      L      O      A      B      E      F      H      F      A     AB   \n",
      "3     T      I      D      A      A      E      E      I      K      K     BI   \n",
      "4     P      F      J      A      A      D      E      K      G      B      H   \n",
      "\n",
      "  cat110 cat111 cat112 cat113 cat114 cat115 cat116     cont1     cont2  \\\n",
      "0     BC      C     AS      S      A      O     LB  0.726300  0.245921   \n",
      "1     CQ      A     AV     BM      A      O     DP  0.330514  0.737068   \n",
      "2     DK      A      C     AF      A      I     GK  0.261841  0.358319   \n",
      "3     CS      C      N     AE      A      O     DJ  0.321594  0.555782   \n",
      "4      C      C      Y     BM      A      K     CK  0.273204  0.159990   \n",
      "\n",
      "      cont3     cont4     cont5     cont6     cont7    cont8    cont9  \\\n",
      "0  0.187583  0.789639  0.310061  0.718367  0.335060  0.30260  0.67135   \n",
      "1  0.592681  0.614134  0.885834  0.438917  0.436585  0.60087  0.35127   \n",
      "2  0.484196  0.236924  0.397069  0.289648  0.315545  0.27320  0.26076   \n",
      "3  0.527991  0.373816  0.422268  0.440945  0.391128  0.31796  0.32128   \n",
      "4  0.527991  0.473202  0.704268  0.178193  0.247408  0.24564  0.22089   \n",
      "\n",
      "    cont10    cont11    cont12    cont13    cont14     loss  \n",
      "0  0.83510  0.569745  0.594646  0.822493  0.714843  2213.18  \n",
      "1  0.43919  0.338312  0.366307  0.611431  0.304496  1283.60  \n",
      "2  0.32446  0.381398  0.373424  0.195709  0.774425  3005.09  \n",
      "3  0.44467  0.327915  0.321570  0.605077  0.602642   939.85  \n",
      "4  0.21230  0.204687  0.202213  0.246011  0.432606  2763.85  \n"
     ]
    }
   ],
   "source": [
    "print('The first 5 lines of training data \\n\\n{}'.format(train_data.head(5)))"
   ]
  },
  {
   "cell_type": "code",
   "execution_count": 9,
   "metadata": {},
   "outputs": [],
   "source": [
    "# It can be seen that the id's column has been removed"
   ]
  },
  {
   "cell_type": "markdown",
   "metadata": {},
   "source": [
    "#### Data Statistics\n",
    "- shape"
   ]
  },
  {
   "cell_type": "code",
   "execution_count": 15,
   "metadata": {},
   "outputs": [
    {
     "name": "stdout",
     "output_type": "stream",
     "text": [
      "Trainig dataset shape \n",
      "(188318, 131)\n",
      "Testing dataset shape\n",
      "(125546, 130)\n"
     ]
    }
   ],
   "source": [
    "# Printing the size of the dataframe\n",
    "\n",
    "print('Trainig dataset shape ')\n",
    "print(train_data.shape)\n",
    "print('Testing dataset shape')\n",
    "print(test_data.shape)"
   ]
  },
  {
   "cell_type": "code",
   "execution_count": 16,
   "metadata": {},
   "outputs": [
    {
     "name": "stdout",
     "output_type": "stream",
     "text": [
      "  cat1 cat2 cat3 cat4 cat5 cat6 cat7 cat8 cat9 cat10 cat11 cat12 cat13 cat14  \\\n",
      "0    A    B    A    A    A    A    A    A    B     A     B     A     A     A   \n",
      "1    A    B    A    B    A    A    A    A    B     A     A     A     A     A   \n",
      "2    A    B    A    B    B    A    B    A    B     B     A     B     B     B   \n",
      "3    A    A    A    A    B    A    A    A    A     A     A     A     A     A   \n",
      "4    B    A    A    A    A    B    A    A    A     A     A     A     A     A   \n",
      "\n",
      "  cat15 cat16 cat17 cat18 cat19 cat20 cat21 cat22 cat23 cat24 cat25 cat26  \\\n",
      "0     A     A     A     A     A     A     A     A     A     A     A     A   \n",
      "1     A     A     A     A     A     A     A     A     B     B     A     A   \n",
      "2     A     A     A     A     A     A     A     A     B     A     A     A   \n",
      "3     A     A     A     A     A     A     A     A     A     A     A     A   \n",
      "4     A     A     A     A     A     A     A     A     A     A     A     A   \n",
      "\n",
      "  cat27 cat28 cat29 cat30 cat31 cat32 cat33 cat34 cat35 cat36 cat37 cat38  \\\n",
      "0     A     A     A     A     A     A     A     A     A     A     A     A   \n",
      "1     A     A     A     A     A     A     A     A     A     A     A     A   \n",
      "2     A     A     A     A     A     A     A     A     A     B     A     B   \n",
      "3     A     A     A     A     A     A     A     A     A     B     A     B   \n",
      "4     A     A     A     A     A     A     A     A     A     A     A     A   \n",
      "\n",
      "  cat39 cat40 cat41 cat42 cat43 cat44 cat45 cat46 cat47 cat48 cat49 cat50  \\\n",
      "0     A     A     A     A     A     A     A     A     A     A     A     A   \n",
      "1     A     A     A     A     A     A     A     A     A     A     A     A   \n",
      "2     B     A     A     A     A     A     A     A     A     A     A     A   \n",
      "3     A     A     B     A     A     A     A     A     A     A     A     A   \n",
      "4     A     A     A     A     A     A     A     A     A     A     A     B   \n",
      "\n",
      "  cat51 cat52 cat53 cat54 cat55 cat56 cat57 cat58 cat59 cat60 cat61 cat62  \\\n",
      "0     A     A     A     A     A     A     A     A     A     A     A     A   \n",
      "1     A     A     A     A     A     A     A     A     A     A     A     A   \n",
      "2     A     A     A     A     A     A     B     A     A     A     A     A   \n",
      "3     A     A     A     A     A     A     A     A     A     A     A     A   \n",
      "4     A     A     A     A     A     A     A     A     A     A     A     A   \n",
      "\n",
      "  cat63 cat64 cat65 cat66 cat67 cat68 cat69 cat70 cat71 cat72 cat73 cat74  \\\n",
      "0     A     A     A     A     A     A     A     A     A     A     A     A   \n",
      "1     A     A     A     A     A     A     A     A     A     B     A     A   \n",
      "2     A     A     A     A     A     A     A     A     A     A     A     A   \n",
      "3     A     A     A     A     A     A     A     A     A     B     A     A   \n",
      "4     A     A     A     A     A     A     A     A     A     A     A     A   \n",
      "\n",
      "  cat75 cat76 cat77 cat78 cat79 cat80 cat81 cat82 cat83 cat84 cat85 cat86  \\\n",
      "0     A     A     D     B     B     D     D     B     B     C     B     D   \n",
      "1     B     A     D     B     B     D     D     B     B     C     B     B   \n",
      "2     A     B     D     B     B     B     B     B     D     C     B     B   \n",
      "3     A     A     D     B     D     B     D     B     B     A     B     D   \n",
      "4     A     A     D     B     B     D     D     B     B     C     B     B   \n",
      "\n",
      "  cat87 cat88 cat89 cat90 cat91 cat92 cat93 cat94 cat95 cat96 cat97 cat98  \\\n",
      "0     B     A     A     A     A     A     D     C     C     E     C     D   \n",
      "1     B     A     A     A     A     A     D     D     D     E     A     A   \n",
      "2     B     A     B     A     A     A     D     D     C     E     E     A   \n",
      "3     D     A     A     A     G     H     D     D     C     E     E     D   \n",
      "4     B     A     A     A     A     A     D     B     D     E     A     A   \n",
      "\n",
      "  cat99 cat100 cat101 cat102 cat103 cat104 cat105 cat106 cat107 cat108 cat109  \\\n",
      "0     T      H      G      A      A      G      E      I      L      K     BI   \n",
      "1     P      B      D      A      A      G      G      G      F      B     BI   \n",
      "2     D      G      Q      A      D      D      E      J      G      A     BI   \n",
      "3     T      G      A      A      D      E      E      I      K      K     BI   \n",
      "4     P      A      A      A      A      F      E      G      E      B     AB   \n",
      "\n",
      "  cat110 cat111 cat112 cat113 cat114 cat115 cat116     cont1     cont2  \\\n",
      "0     BC      A      J     AX      A      Q     HG  0.321594  0.299102   \n",
      "1     CO      E      G      X      A      L     HK  0.634734  0.620805   \n",
      "2     CS      C      U     AE      A      K     CK  0.290813  0.737068   \n",
      "3     CR      A     AY     AJ      A      P     DJ  0.268622  0.681761   \n",
      "4     EG      A      E      I      C      J     HA  0.553846  0.299102   \n",
      "\n",
      "      cont3     cont4     cont5     cont6     cont7    cont8    cont9  \\\n",
      "0  0.246911  0.402922  0.281143  0.466591  0.317681  0.61229  0.34365   \n",
      "1  0.654310  0.946616  0.836443  0.482425  0.443760  0.71330  0.51890   \n",
      "2  0.711159  0.412789  0.718531  0.212308  0.325779  0.29758  0.34365   \n",
      "3  0.592681  0.354893  0.397069  0.369930  0.342355  0.40028  0.33237   \n",
      "4  0.263570  0.696873  0.302678  0.398862  0.391833  0.23688  0.43731   \n",
      "\n",
      "    cont10    cont11    cont12    cont13    cont14  \n",
      "0  0.38016  0.377724  0.369858  0.704052  0.392562  \n",
      "1  0.60401  0.689039  0.675759  0.453468  0.208045  \n",
      "2  0.30529  0.245410  0.241676  0.258586  0.297232  \n",
      "3  0.31480  0.348867  0.341872  0.592264  0.555955  \n",
      "4  0.50556  0.359572  0.352251  0.301535  0.825823  \n"
     ]
    }
   ],
   "source": [
    "print(test_data.head(5))"
   ]
  },
  {
   "cell_type": "markdown",
   "metadata": {},
   "source": [
    "Test dataset does not have loss column (the variable we are predicting)"
   ]
  },
  {
   "cell_type": "markdown",
   "metadata": {},
   "source": [
    "#### Data Statistics\n",
    "- Description"
   ]
  },
  {
   "cell_type": "code",
   "execution_count": 17,
   "metadata": {},
   "outputs": [
    {
     "name": "stdout",
     "output_type": "stream",
     "text": [
      "               cont1          cont2          cont3          cont4  \\\n",
      "count  188318.000000  188318.000000  188318.000000  188318.000000   \n",
      "mean        0.493861       0.507188       0.498918       0.491812   \n",
      "std         0.187640       0.207202       0.202105       0.211292   \n",
      "min         0.000016       0.001149       0.002634       0.176921   \n",
      "25%         0.346090       0.358319       0.336963       0.327354   \n",
      "50%         0.475784       0.555782       0.527991       0.452887   \n",
      "75%         0.623912       0.681761       0.634224       0.652072   \n",
      "max         0.984975       0.862654       0.944251       0.954297   \n",
      "\n",
      "               cont5          cont6          cont7          cont8  \\\n",
      "count  188318.000000  188318.000000  188318.000000  188318.000000   \n",
      "mean        0.487428       0.490945       0.484970       0.486437   \n",
      "std         0.209027       0.205273       0.178450       0.199370   \n",
      "min         0.281143       0.012683       0.069503       0.236880   \n",
      "25%         0.281143       0.336105       0.350175       0.312800   \n",
      "50%         0.422268       0.440945       0.438285       0.441060   \n",
      "75%         0.643315       0.655021       0.591045       0.623580   \n",
      "max         0.983674       0.997162       1.000000       0.980200   \n",
      "\n",
      "               cont9         cont10         cont11         cont12  \\\n",
      "count  188318.000000  188318.000000  188318.000000  188318.000000   \n",
      "mean        0.485506       0.498066       0.493511       0.493150   \n",
      "std         0.181660       0.185877       0.209737       0.209427   \n",
      "min         0.000080       0.000000       0.035321       0.036232   \n",
      "25%         0.358970       0.364580       0.310961       0.311661   \n",
      "50%         0.441450       0.461190       0.457203       0.462286   \n",
      "75%         0.566820       0.614590       0.678924       0.675759   \n",
      "max         0.995400       0.994980       0.998742       0.998484   \n",
      "\n",
      "              cont13         cont14           loss  \n",
      "count  188318.000000  188318.000000  188318.000000  \n",
      "mean        0.493138       0.495717    3037.337686  \n",
      "std         0.212777       0.222488    2904.086186  \n",
      "min         0.000228       0.179722       0.670000  \n",
      "25%         0.315758       0.294610    1204.460000  \n",
      "50%         0.363547       0.407403    2115.570000  \n",
      "75%         0.689974       0.724623    3864.045000  \n",
      "max         0.988494       0.844848  121012.250000  \n"
     ]
    }
   ],
   "source": [
    "print(train_data.describe())"
   ]
  },
  {
   "cell_type": "code",
   "execution_count": 18,
   "metadata": {},
   "outputs": [],
   "source": [
    "# looking at the count row each column has same count meaning no missing values\n",
    "# No negative values in dataset"
   ]
  },
  {
   "cell_type": "code",
   "execution_count": 20,
   "metadata": {},
   "outputs": [
    {
     "ename": "NameError",
     "evalue": "name 'Skew' is not defined",
     "output_type": "error",
     "traceback": [
      "\u001b[0;31m---------------------------------------------------------------------------\u001b[0m",
      "\u001b[0;31mNameError\u001b[0m                                 Traceback (most recent call last)",
      "\u001b[0;32m<ipython-input-20-f63a0193018a>\u001b[0m in \u001b[0;36m<module>\u001b[0;34m\u001b[0m\n\u001b[1;32m      1\u001b[0m \u001b[0;31m#### Data Statistics\u001b[0m\u001b[0;34m\u001b[0m\u001b[0;34m\u001b[0m\u001b[0;34m\u001b[0m\u001b[0m\n\u001b[0;32m----> 2\u001b[0;31m \u001b[0;34m-\u001b[0m\u001b[0mSkew\u001b[0m\u001b[0;34m\u001b[0m\u001b[0;34m\u001b[0m\u001b[0m\n\u001b[0m",
      "\u001b[0;31mNameError\u001b[0m: name 'Skew' is not defined"
     ]
    }
   ],
   "source": [
    "#### Data Statistics\n",
    "-Skew\n"
   ]
  },
  {
   "cell_type": "code",
   "execution_count": null,
   "metadata": {},
   "outputs": [],
   "source": []
  }
 ],
 "metadata": {
  "kernelspec": {
   "display_name": "Python 3",
   "language": "python",
   "name": "python3"
  },
  "language_info": {
   "codemirror_mode": {
    "name": "ipython",
    "version": 3
   },
   "file_extension": ".py",
   "mimetype": "text/x-python",
   "name": "python",
   "nbconvert_exporter": "python",
   "pygments_lexer": "ipython3",
   "version": "3.7.7"
  }
 },
 "nbformat": 4,
 "nbformat_minor": 4
}
